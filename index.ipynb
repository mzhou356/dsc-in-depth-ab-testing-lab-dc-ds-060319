{
 "cells": [
  {
   "cell_type": "markdown",
   "metadata": {},
   "source": [
    "# In Depth A/B Testing - Lab\n",
    "\n",
    "## Introduction\n",
    "\n",
    "In this lab, you'll explore a survey from Kaggle regarding budding data scientists. With this, you'll form some initial hypotheses, and test them using the tools you've acquired to date. \n",
    "\n",
    "## Objectives\n",
    "\n",
    "You will be able to:\n",
    "* Conduct statistical tests on a real-world dataset"
   ]
  },
  {
   "cell_type": "markdown",
   "metadata": {},
   "source": [
    "## Load the Dataset and Perform a Brief Exploration\n",
    "\n",
    "The data is stored in a file called **multipleChoiceResponses_cleaned.csv**. Feel free to check out the original dataset referenced at the bottom of this lab, although this cleaned version will undoubtedly be easier to work with. Additionally, meta-data regarding the questions is stored in a file name **schema.csv**. Load in the data itself as a Pandas DataFrame, and take a moment to briefly get acquainted with it.\n",
    "\n",
    "> Note: If you can't get the file to load properly, try changing the encoding format as in `encoding='latin1'`"
   ]
  },
  {
   "cell_type": "code",
   "execution_count": 2,
   "metadata": {},
   "outputs": [],
   "source": [
    "#Your code here\n",
    "import pandas as pd\n",
    "import numpy as np\n",
    "import matplotlib.pyplot as plt\n",
    "%matplotlib inline\n",
    "import seaborn as sns"
   ]
  },
  {
   "cell_type": "code",
   "execution_count": 3,
   "metadata": {},
   "outputs": [],
   "source": [
    "import warnings\n",
    "warnings.filterwarnings(\"ignore\")"
   ]
  },
  {
   "cell_type": "code",
   "execution_count": 27,
   "metadata": {},
   "outputs": [],
   "source": [
    "data = pd.read_csv('multipleChoiceResponses_cleaned.csv', encoding='latin1')"
   ]
  },
  {
   "cell_type": "code",
   "execution_count": 5,
   "metadata": {},
   "outputs": [
    {
     "data": {
      "text/plain": [
       "Index(['GenderSelect', 'Country', 'Age', 'EmploymentStatus', 'StudentStatus',\n",
       "       'LearningDataScience', 'CodeWriter', 'CareerSwitcher',\n",
       "       'CurrentJobTitleSelect', 'TitleFit',\n",
       "       ...\n",
       "       'JobFactorTitle', 'JobFactorCompanyFunding', 'JobFactorImpact',\n",
       "       'JobFactorRemote', 'JobFactorIndustry', 'JobFactorLeaderReputation',\n",
       "       'JobFactorDiversity', 'JobFactorPublishingOpportunity', 'exchangeRate',\n",
       "       'AdjustedCompensation'],\n",
       "      dtype='object', length=230)"
      ]
     },
     "execution_count": 5,
     "metadata": {},
     "output_type": "execute_result"
    }
   ],
   "source": [
    "data.columns"
   ]
  },
  {
   "cell_type": "code",
   "execution_count": 18,
   "metadata": {},
   "outputs": [
    {
     "data": {
      "text/plain": [
       "(0    Bachelor's degree\n",
       " 1      Master's degree\n",
       " 2      Master's degree\n",
       " 3      Master's degree\n",
       " 4      Doctoral degree\n",
       " Name: FormalEducation, dtype: object, 0         NaN\n",
       " 1         NaN\n",
       " 2         NaN\n",
       " 3    250000.0\n",
       " 4         NaN\n",
       " Name: AdjustedCompensation, dtype: float64)"
      ]
     },
     "execution_count": 18,
     "metadata": {},
     "output_type": "execute_result"
    }
   ],
   "source": [
    "data.FormalEducation[:5], data.AdjustedCompensation[:5]"
   ]
  },
  {
   "cell_type": "markdown",
   "metadata": {},
   "source": [
    "## Wages and Education\n",
    "\n",
    "You've been asked to determine whether education is impactful to salary. Develop a hypothesis test to compare the salaries of those with Master's degrees to those with Bachelor's degrees. Are the two statistically different according to your results?\n",
    "\n",
    "> Note: The relevant features are stored in the 'FormalEducation' and 'AdjustedCompensation' features."
   ]
  },
  {
   "cell_type": "code",
   "execution_count": 6,
   "metadata": {},
   "outputs": [],
   "source": [
    "#Your code here\n",
    "# H0: salary_Bachelor >= salary_master \n",
    "# H0: salary_Bachelor < salary_master \n",
    "bachelor = data[data.FormalEducation == \"Bachelor's degree\"]['AdjustedCompensation']\n",
    "master = data[data.FormalEducation == \"Master's degree\"]['AdjustedCompensation']\n",
    "mean_b, mean_m = bachelor.mean(), master.mean()\n"
   ]
  },
  {
   "cell_type": "code",
   "execution_count": 7,
   "metadata": {},
   "outputs": [],
   "source": [
    "std_b, std_m = bachelor.std(), master.std()\n",
    "n_b, n_m = len(bachelor), len(master)\n",
    "alpha = 0.5"
   ]
  },
  {
   "cell_type": "code",
   "execution_count": 8,
   "metadata": {
    "scrolled": true
   },
   "outputs": [
    {
     "data": {
      "text/plain": [
       "(306935.8723879783, 135527.2085045828)"
      ]
     },
     "execution_count": 8,
     "metadata": {},
     "output_type": "execute_result"
    }
   ],
   "source": [
    "std_b, std_m"
   ]
  },
  {
   "cell_type": "code",
   "execution_count": 9,
   "metadata": {},
   "outputs": [],
   "source": [
    "from statsmodels.stats import weightstats"
   ]
  },
  {
   "cell_type": "code",
   "execution_count": 17,
   "metadata": {},
   "outputs": [],
   "source": [
    "bachelor.dropna(inplace=True)\n",
    "master.dropna(inplace=True)"
   ]
  },
  {
   "cell_type": "code",
   "execution_count": 18,
   "metadata": {},
   "outputs": [
    {
     "data": {
      "text/plain": [
       "(-0.5319163473190825, 0.29741105600554973, 3095.0)"
      ]
     },
     "execution_count": 18,
     "metadata": {},
     "output_type": "execute_result"
    }
   ],
   "source": [
    "weightstats.ttest_ind(bachelor, master, alternative='smaller')  # fail to reject "
   ]
  },
  {
   "cell_type": "markdown",
   "metadata": {},
   "source": [
    "## Wages and Education II\n",
    "\n",
    "Now perform a similar statistical test comparing the AdjustedCompensation of those with Bachelor's degrees and those with Doctorates. If you haven't already, be sure to explore the distribution of the AdjustedCompensation feature for any anomalies. "
   ]
  },
  {
   "cell_type": "code",
   "execution_count": 24,
   "metadata": {},
   "outputs": [],
   "source": [
    "bachelor"
   ]
  },
  {
   "cell_type": "code",
   "execution_count": 10,
   "metadata": {},
   "outputs": [
    {
     "name": "stdout",
     "output_type": "stream",
     "text": [
      "mean_b: 64887.097994618794 and mean_p: 29566175.762453098\n",
      "median_b: 38399.4 and median_p: 74131.91999999997\n",
      "sd_b: 306935.8723879783 and sd_p: 909998082.3346785\n"
     ]
    }
   ],
   "source": [
    "#Your code here\n",
    "bachelor = data[data.FormalEducation == \"Bachelor's degree\"]['AdjustedCompensation']\n",
    "phd = data[data.FormalEducation == \"Doctoral degree\"]['AdjustedCompensation']\n",
    "bachelor.dropna(inplace=True)\n",
    "phd.dropna(inplace=True)\n",
    "mean_b, mean_p = bachelor.mean(), phd.mean()\n",
    "median_b, median_p = bachelor.median(), phd.median()\n",
    "sd_b, sd_p = bachelor.std(), phd.std()\n",
    "print(f'mean_b: {mean_b} and mean_p: {mean_p}')\n",
    "print(f'median_b: {median_b} and median_p: {median_p}')\n",
    "print(f'sd_b: {sd_b} and sd_p: {sd_p}')"
   ]
  },
  {
   "cell_type": "code",
   "execution_count": 11,
   "metadata": {},
   "outputs": [
    {
     "data": {
      "text/plain": [
       "(-1.0786721488559703, 0.14042972979741944, 2072.0)"
      ]
     },
     "execution_count": 11,
     "metadata": {},
     "output_type": "execute_result"
    }
   ],
   "source": [
    "weightstats.ttest_ind(bachelor,phd, alternative='smaller')"
   ]
  },
  {
   "cell_type": "code",
   "execution_count": 22,
   "metadata": {},
   "outputs": [
    {
     "name": "stdout",
     "output_type": "stream",
     "text": [
      "\n",
      "\n",
      "Repeated Test with Ouliers Removed:\n",
      "Sample sizes: \n",
      "s1: 1107 \n",
      "s2: 967\n",
      "Welch's t-test p-value with outliers removed:\n"
     ]
    },
    {
     "data": {
      "text/plain": [
       "(0.20006913338318413, 0.5792769266360764, 2072.0)"
      ]
     },
     "execution_count": 22,
     "metadata": {},
     "output_type": "execute_result"
    }
   ],
   "source": [
    "print('\\n\\nRepeated Test with Ouliers Removed:')\n",
    "outlier_threshold = 500000\n",
    "bachelor_s = bachelor>=outlier_threshold\n",
    "phd_s = phd >= outlier_threshold\n",
    "print('Sample sizes: \\ns1: {} \\ns2: {}'.format(len(bachelor_s), len(phd_s)))\n",
    "print(\"Welch's t-test p-value with outliers removed:\")\n",
    "weightstats.ttest_ind(bachelor_s,phd_s, alternative='smaller')"
   ]
  },
  {
   "cell_type": "markdown",
   "metadata": {},
   "source": [
    "## Wages and Education III\n",
    "\n",
    "Remember the multiple comparisons problem; rather than continuing on like this, perform an ANOVA test between the various 'FormalEducation' categories and their relation to 'AdjustedCompensation'."
   ]
  },
  {
   "cell_type": "code",
   "execution_count": 28,
   "metadata": {},
   "outputs": [
    {
     "name": "stdout",
     "output_type": "stream",
     "text": [
      "                          sum_sq      df         F    PR(>F)\n",
      "C(FormalEducation)  6.540294e+17     6.0  0.590714  0.738044\n",
      "Residual            7.999414e+20  4335.0       NaN       NaN\n"
     ]
    }
   ],
   "source": [
    "#Your code here\n",
    "import statsmodels.api as sm\n",
    "from statsmodels.formula.api import ols\n",
    "\n",
    "formula = ' AdjustedCompensation ~ C(FormalEducation)'\n",
    "lm = ols(formula, data).fit()\n",
    "table = sm.stats.anova_lm(lm, typ=2)\n",
    "print(table)\n",
    "# fail to reject null hypothesis "
   ]
  },
  {
   "cell_type": "code",
   "execution_count": 36,
   "metadata": {},
   "outputs": [
    {
     "name": "stdout",
     "output_type": "stream",
     "text": [
      "                          sum_sq    df        F   PR(>F)\n",
      "C(FormalEducation)  2.199996e+20   5.0  0.83035  0.55637\n",
      "Residual            5.298960e+20  10.0      NaN      NaN\n"
     ]
    }
   ],
   "source": [
    "temp = data[data['AdjustedCompensation']>=5*10**5]\n",
    "formula = ' AdjustedCompensation ~ C(FormalEducation)'\n",
    "lm = ols(formula, temp).fit()\n",
    "table = sm.stats.anova_lm(lm, typ=2)\n",
    "print(table)"
   ]
  },
  {
   "cell_type": "markdown",
   "metadata": {},
   "source": [
    "## Additional Resources\n",
    "\n",
    "Here's the original source where the data was taken from:  \n",
    "    [Kaggle Machine Learning & Data Science Survey 2017](https://www.kaggle.com/kaggle/kaggle-survey-2017)"
   ]
  },
  {
   "cell_type": "markdown",
   "metadata": {},
   "source": [
    "## Summary\n",
    "\n",
    "In this lab, you practiced conducting actual hypothesis tests on actual data. From this, you saw how dependent results can be on the initial problem formulation, including preprocessing!"
   ]
  }
 ],
 "metadata": {
  "kernelspec": {
   "display_name": "Python 3",
   "language": "python",
   "name": "python3"
  },
  "language_info": {
   "codemirror_mode": {
    "name": "ipython",
    "version": 3
   },
   "file_extension": ".py",
   "mimetype": "text/x-python",
   "name": "python",
   "nbconvert_exporter": "python",
   "pygments_lexer": "ipython3",
   "version": "3.6.6"
  }
 },
 "nbformat": 4,
 "nbformat_minor": 2
}
